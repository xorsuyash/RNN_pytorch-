{
 "cells": [
  {
   "cell_type": "code",
   "execution_count": 1,
   "metadata": {},
   "outputs": [],
   "source": [
    "import os \n",
    "import os \n",
    "import gensim \n",
    "\n",
    "from nltk import sent_tokenize \n",
    "from gensim.utils import simple_preprocess"
   ]
  },
  {
   "cell_type": "code",
   "execution_count": 3,
   "metadata": {},
   "outputs": [
    {
     "ename": "TypeError",
     "evalue": "TextIOWrapper.read() takes no keyword arguments",
     "output_type": "error",
     "traceback": [
      "\u001b[0;31m---------------------------------------------------------------------------\u001b[0m",
      "\u001b[0;31mTypeError\u001b[0m                                 Traceback (most recent call last)",
      "Cell \u001b[0;32mIn[3], line 6\u001b[0m\n\u001b[1;32m      3\u001b[0m \u001b[39mfor\u001b[39;00m filename \u001b[39min\u001b[39;00m os\u001b[39m.\u001b[39mlistdir(\u001b[39m'\u001b[39m\u001b[39mData\u001b[39m\u001b[39m'\u001b[39m):\n\u001b[1;32m      5\u001b[0m     f\u001b[39m=\u001b[39m\u001b[39mopen\u001b[39m(os\u001b[39m.\u001b[39mpath\u001b[39m.\u001b[39mjoin(\u001b[39m'\u001b[39m\u001b[39mData\u001b[39m\u001b[39m'\u001b[39m,filename))\n\u001b[0;32m----> 6\u001b[0m     corpus\u001b[39m=\u001b[39mf\u001b[39m.\u001b[39;49mread(encoding\u001b[39m=\u001b[39;49m\u001b[39m'\u001b[39;49m\u001b[39mutf-8\u001b[39;49m\u001b[39m'\u001b[39;49m)\n\u001b[1;32m      8\u001b[0m     raw_sent\u001b[39m=\u001b[39msent_tokenize(corpus)\n\u001b[1;32m     10\u001b[0m     \u001b[39mfor\u001b[39;00m sent \u001b[39min\u001b[39;00m raw_sent:\n",
      "\u001b[0;31mTypeError\u001b[0m: TextIOWrapper.read() takes no keyword arguments"
     ]
    }
   ],
   "source": [
    "story=[]\n",
    "\n",
    "for filename in os.listdir('Data'):\n",
    "\n",
    "    f=open(os.path.join('Data',filename))\n",
    "    corpus=f.read()\n",
    "\n",
    "    raw_sent=sent_tokenize(corpus)\n",
    "\n",
    "    for sent in raw_sent:\n",
    "        story.append(simple_preprocess(sent))\n",
    "\n",
    "print(f\" Total number of sentences {len(story)}\")\n",
    "\n",
    "print(story[0])"
   ]
  },
  {
   "cell_type": "code",
   "execution_count": null,
   "metadata": {},
   "outputs": [],
   "source": []
  }
 ],
 "metadata": {
  "kernelspec": {
   "display_name": "Pytorch",
   "language": "python",
   "name": "python3"
  },
  "language_info": {
   "codemirror_mode": {
    "name": "ipython",
    "version": 3
   },
   "file_extension": ".py",
   "mimetype": "text/x-python",
   "name": "python",
   "nbconvert_exporter": "python",
   "pygments_lexer": "ipython3",
   "version": "3.9.13"
  },
  "orig_nbformat": 4,
  "vscode": {
   "interpreter": {
    "hash": "9a397443b71309b1768ecb77ab7e5ac6125ad4f87dc465dbb03c6294e84f7f41"
   }
  }
 },
 "nbformat": 4,
 "nbformat_minor": 2
}
